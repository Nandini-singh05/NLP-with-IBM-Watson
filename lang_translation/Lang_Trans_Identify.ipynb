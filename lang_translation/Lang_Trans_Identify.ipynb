{
  "nbformat": 4,
  "nbformat_minor": 0,
  "metadata": {
    "colab": {
      "provenance": []
    },
    "kernelspec": {
      "name": "python3",
      "display_name": "Python 3"
    },
    "language_info": {
      "name": "python"
    }
  },
  "cells": [
    {
      "cell_type": "code",
      "source": [
        "!pip install ibm_watson"
      ],
      "metadata": {
        "colab": {
          "base_uri": "https://localhost:8080/"
        },
        "id": "4yvM_tyKRDqO",
        "outputId": "09dbac1c-40e4-44ee-a65c-a6a0195b3a8a"
      },
      "execution_count": 1,
      "outputs": [
        {
          "output_type": "stream",
          "name": "stdout",
          "text": [
            "Collecting ibm_watson\n",
            "  Downloading ibm_watson-8.1.0.tar.gz (400 kB)\n",
            "\u001b[?25l     \u001b[90m━━━━━━━━━━━━━━━━━━━━━━━━━━━━━━━━━━━━━━━━\u001b[0m \u001b[32m0.0/400.1 kB\u001b[0m \u001b[31m?\u001b[0m eta \u001b[36m-:--:--\u001b[0m\r\u001b[2K     \u001b[91m━━━━━━━━━━━━━━━\u001b[0m\u001b[90m╺\u001b[0m\u001b[90m━━━━━━━━━━━━━━━━━━━━━━━━\u001b[0m \u001b[32m153.6/400.1 kB\u001b[0m \u001b[31m4.7 MB/s\u001b[0m eta \u001b[36m0:00:01\u001b[0m\r\u001b[2K     \u001b[90m━━━━━━━━━━━━━━━━━━━━━━━━━━━━━━━━━━━━━━━━\u001b[0m \u001b[32m400.1/400.1 kB\u001b[0m \u001b[31m5.6 MB/s\u001b[0m eta \u001b[36m0:00:00\u001b[0m\n",
            "\u001b[?25h  Installing build dependencies ... \u001b[?25l\u001b[?25hdone\n",
            "  Getting requirements to build wheel ... \u001b[?25l\u001b[?25hdone\n",
            "  Preparing metadata (pyproject.toml) ... \u001b[?25l\u001b[?25hdone\n",
            "Requirement already satisfied: requests<3.0,>=2.0 in /usr/local/lib/python3.10/dist-packages (from ibm_watson) (2.31.0)\n",
            "Requirement already satisfied: python-dateutil>=2.5.3 in /usr/local/lib/python3.10/dist-packages (from ibm_watson) (2.8.2)\n",
            "Requirement already satisfied: websocket-client>=1.1.0 in /usr/local/lib/python3.10/dist-packages (from ibm_watson) (1.8.0)\n",
            "Collecting ibm-cloud-sdk-core==3.*,>=3.3.6 (from ibm_watson)\n",
            "  Downloading ibm-cloud-sdk-core-3.20.0.tar.gz (62 kB)\n",
            "\u001b[2K     \u001b[90m━━━━━━━━━━━━━━━━━━━━━━━━━━━━━━━━━━━━━━━━\u001b[0m \u001b[32m62.1/62.1 kB\u001b[0m \u001b[31m8.4 MB/s\u001b[0m eta \u001b[36m0:00:00\u001b[0m\n",
            "\u001b[?25h  Installing build dependencies ... \u001b[?25l\u001b[?25hdone\n",
            "  Getting requirements to build wheel ... \u001b[?25l\u001b[?25hdone\n",
            "  Preparing metadata (pyproject.toml) ... \u001b[?25l\u001b[?25hdone\n",
            "Collecting urllib3<3.0.0,>=2.1.0 (from ibm-cloud-sdk-core==3.*,>=3.3.6->ibm_watson)\n",
            "  Downloading urllib3-2.2.1-py3-none-any.whl (121 kB)\n",
            "\u001b[2K     \u001b[90m━━━━━━━━━━━━━━━━━━━━━━━━━━━━━━━━━━━━━━━━\u001b[0m \u001b[32m121.1/121.1 kB\u001b[0m \u001b[31m6.9 MB/s\u001b[0m eta \u001b[36m0:00:00\u001b[0m\n",
            "\u001b[?25hCollecting PyJWT<3.0.0,>=2.8.0 (from ibm-cloud-sdk-core==3.*,>=3.3.6->ibm_watson)\n",
            "  Downloading PyJWT-2.8.0-py3-none-any.whl (22 kB)\n",
            "Requirement already satisfied: six>=1.5 in /usr/local/lib/python3.10/dist-packages (from python-dateutil>=2.5.3->ibm_watson) (1.16.0)\n",
            "Requirement already satisfied: charset-normalizer<4,>=2 in /usr/local/lib/python3.10/dist-packages (from requests<3.0,>=2.0->ibm_watson) (3.3.2)\n",
            "Requirement already satisfied: idna<4,>=2.5 in /usr/local/lib/python3.10/dist-packages (from requests<3.0,>=2.0->ibm_watson) (3.7)\n",
            "Requirement already satisfied: certifi>=2017.4.17 in /usr/local/lib/python3.10/dist-packages (from requests<3.0,>=2.0->ibm_watson) (2024.2.2)\n",
            "Building wheels for collected packages: ibm_watson, ibm-cloud-sdk-core\n",
            "  Building wheel for ibm_watson (pyproject.toml) ... \u001b[?25l\u001b[?25hdone\n",
            "  Created wheel for ibm_watson: filename=ibm_watson-8.1.0-py3-none-any.whl size=402519 sha256=dfd2fb46e62f43b027dd3635898a72c369c88eeef6d6f0336f93eaa062510087\n",
            "  Stored in directory: /root/.cache/pip/wheels/9c/ec/3d/75dc52e05ee4b84284f9f481ccbb85260985823c6c7083bf16\n",
            "  Building wheel for ibm-cloud-sdk-core (pyproject.toml) ... \u001b[?25l\u001b[?25hdone\n",
            "  Created wheel for ibm-cloud-sdk-core: filename=ibm_cloud_sdk_core-3.20.0-py3-none-any.whl size=101424 sha256=82d252d6d9ea31ba04e913bb610d52e59ee00ee14d61a7df2f03d02f48b596e7\n",
            "  Stored in directory: /root/.cache/pip/wheels/d0/1c/35/8ae2b2b46ca9f86d9edcc026eb0f1a5e8237b712ea3e1ba6c4\n",
            "Successfully built ibm_watson ibm-cloud-sdk-core\n",
            "Installing collected packages: urllib3, PyJWT, ibm-cloud-sdk-core, ibm_watson\n",
            "  Attempting uninstall: urllib3\n",
            "    Found existing installation: urllib3 2.0.7\n",
            "    Uninstalling urllib3-2.0.7:\n",
            "      Successfully uninstalled urllib3-2.0.7\n",
            "  Attempting uninstall: PyJWT\n",
            "    Found existing installation: PyJWT 2.3.0\n",
            "    Uninstalling PyJWT-2.3.0:\n",
            "      Successfully uninstalled PyJWT-2.3.0\n",
            "Successfully installed PyJWT-2.8.0 ibm-cloud-sdk-core-3.20.0 ibm_watson-8.1.0 urllib3-2.2.1\n"
          ]
        }
      ]
    },
    {
      "cell_type": "markdown",
      "source": [
        "# 1. Authenticate"
      ],
      "metadata": {
        "id": "rXgox4UlQsfa"
      }
    },
    {
      "cell_type": "code",
      "source": [
        "from ibm_watson import LanguageTranslatorV3\n",
        "from ibm_cloud_sdk_core.authenticators import IAMAuthenticator\n"
      ],
      "metadata": {
        "id": "PI3gUxnKRcwa"
      },
      "execution_count": 3,
      "outputs": []
    },
    {
      "cell_type": "code",
      "source": [
        "api_key = 'your_api_key'\n",
        "service_url = 'your_service_url'"
      ],
      "metadata": {
        "id": "KRcIrECJRsIN"
      },
      "execution_count": 4,
      "outputs": []
    },
    {
      "cell_type": "code",
      "source": [
        "authenticator = IAMAuthenticator(api_key)\n",
        "lt = LanguageTranslatorV3(version=\"2018-05-01\", authenticator=authenticator)\n",
        "lt.set_service_url(service_url)"
      ],
      "metadata": {
        "colab": {
          "base_uri": "https://localhost:8080/"
        },
        "id": "PqKtqON8R5I1",
        "outputId": "efe61864-2619-4183-9473-f070f949c330"
      },
      "execution_count": 5,
      "outputs": [
        {
          "output_type": "stream",
          "name": "stdout",
          "text": [
            "\n",
            "            On 10 June 2023, IBM announced the deprecation of the Natural Language Translator service.\n",
            "            The service will no longer be available from 8 August 2022. As of 10 June 2024, the service will reach its End of Support\n",
            "            date. As of 10 December 2024, the service will be withdrawn entirely and will no longer be\n",
            "            available to any customers.\n",
            "            \n"
          ]
        }
      ]
    },
    {
      "cell_type": "markdown",
      "source": [
        "# 2. Translate"
      ],
      "metadata": {
        "id": "xeBSyV27Qsb0"
      }
    },
    {
      "cell_type": "code",
      "source": [
        "text1 = lt.translate(text=\"Today is a very hot and humid day\", model_id='en-de').get_result()\n",
        "text1"
      ],
      "metadata": {
        "colab": {
          "base_uri": "https://localhost:8080/"
        },
        "id": "E-5TVSAqRonE",
        "outputId": "4ed79cbd-b4f4-42cb-b39f-0dee10944905"
      },
      "execution_count": 6,
      "outputs": [
        {
          "output_type": "execute_result",
          "data": {
            "text/plain": [
              "{'translations': [{'translation': 'Heute ist ein sehr heißer und feuchter Tag'}],\n",
              " 'word_count': 8,\n",
              " 'character_count': 33}"
            ]
          },
          "metadata": {},
          "execution_count": 6
        }
      ]
    },
    {
      "cell_type": "code",
      "source": [
        "print(text1['translations'][0]['translation'])"
      ],
      "metadata": {
        "colab": {
          "base_uri": "https://localhost:8080/"
        },
        "id": "ORcm8eDjUOuk",
        "outputId": "2175ef80-51bc-46d2-94f7-852c61eaaf1c"
      },
      "execution_count": 7,
      "outputs": [
        {
          "output_type": "stream",
          "name": "stdout",
          "text": [
            "Heute ist ein sehr heißer und feuchter Tag\n"
          ]
        }
      ]
    },
    {
      "cell_type": "code",
      "source": [
        "text2 = lt.translate(text='Today is a very hot and humid day', model_id='en-hi').get_result()\n",
        "text2"
      ],
      "metadata": {
        "colab": {
          "base_uri": "https://localhost:8080/"
        },
        "id": "Zp0RNninUYBu",
        "outputId": "9ecb6193-90bc-4238-ca28-041abee5ff24"
      },
      "execution_count": 8,
      "outputs": [
        {
          "output_type": "execute_result",
          "data": {
            "text/plain": [
              "{'translations': [{'translation': 'आज एक बहुत गर्म और आर्द्र दिन है'}],\n",
              " 'word_count': 8,\n",
              " 'character_count': 33}"
            ]
          },
          "metadata": {},
          "execution_count": 8
        }
      ]
    },
    {
      "cell_type": "code",
      "source": [
        "print(text2['translations'][0]['translation'])"
      ],
      "metadata": {
        "colab": {
          "base_uri": "https://localhost:8080/"
        },
        "id": "77_hNguqUpnI",
        "outputId": "57e27374-2949-4097-883c-a18821063aba"
      },
      "execution_count": 10,
      "outputs": [
        {
          "output_type": "stream",
          "name": "stdout",
          "text": [
            "आज एक बहुत गर्म और आर्द्र दिन है\n"
          ]
        }
      ]
    },
    {
      "cell_type": "markdown",
      "source": [
        "# 3. Identify Languages"
      ],
      "metadata": {
        "id": "ECrTy1MxQsZf"
      }
    },
    {
      "cell_type": "code",
      "source": [
        "language1 = lt.identify(text1).get_result()\n",
        "language1"
      ],
      "metadata": {
        "colab": {
          "base_uri": "https://localhost:8080/"
        },
        "id": "KxbP9YnWUNLR",
        "outputId": "cfe691bf-2719-4ae9-d9ef-70cfb19fb026"
      },
      "execution_count": 12,
      "outputs": [
        {
          "output_type": "execute_result",
          "data": {
            "text/plain": [
              "{'languages': [{'language': 'de', 'confidence': 0.5122798263402255},\n",
              "  {'language': 'nl', 'confidence': 0.24794811594588928},\n",
              "  {'language': 'en', 'confidence': 0.18605314942246237},\n",
              "  {'language': 'af', 'confidence': 0.02404107562339952},\n",
              "  {'language': 'fr', 'confidence': 0.0049354501620477225},\n",
              "  {'language': 'ro', 'confidence': 0.003938592024144464},\n",
              "  {'language': 'ko', 'confidence': 0.00391800536032233},\n",
              "  {'language': 'da', 'confidence': 0.0030982914195908495},\n",
              "  {'language': 'nn', 'confidence': 0.0014328454354224217},\n",
              "  {'language': 'sv', 'confidence': 0.0013599985651260038},\n",
              "  {'language': 'vi', 'confidence': 0.001278702113647274},\n",
              "  {'language': 'ja', 'confidence': 0.0010469893462165599},\n",
              "  {'language': 'pt', 'confidence': 0.0009361639161989763},\n",
              "  {'language': 'ga', 'confidence': 0.0009333424727848674},\n",
              "  {'language': 'tl', 'confidence': 0.0008495480345844205},\n",
              "  {'language': 'ca', 'confidence': 0.0006411293689327514},\n",
              "  {'language': 'pl', 'confidence': 0.000578773241323836},\n",
              "  {'language': 'nb', 'confidence': 0.0004848107727457058},\n",
              "  {'language': 'tr', 'confidence': 0.0004618563316539171},\n",
              "  {'language': 'ku', 'confidence': 0.00045320124415621497},\n",
              "  {'language': 'cy', 'confidence': 0.0004078955027493143},\n",
              "  {'language': 'hu', 'confidence': 0.0004036211289927198},\n",
              "  {'language': 'cs', 'confidence': 0.0003420376874972301},\n",
              "  {'language': 'ht', 'confidence': 0.0003353438162989438},\n",
              "  {'language': 'el', 'confidence': 0.00021405966113704006},\n",
              "  {'language': 'ms', 'confidence': 0.00020041543838788303},\n",
              "  {'language': 'hi', 'confidence': 0.0001562492415263666},\n",
              "  {'language': 'sq', 'confidence': 0.00013890172541258295},\n",
              "  {'language': 'et', 'confidence': 0.00011326959508804574},\n",
              "  {'language': 'es', 'confidence': 0.00010383797418374297},\n",
              "  {'language': 'az', 'confidence': 9.748971166221649e-05},\n",
              "  {'language': 'mt', 'confidence': 9.502620755635761e-05},\n",
              "  {'language': 'it', 'confidence': 9.454611128219734e-05},\n",
              "  {'language': 'th', 'confidence': 6.833568005583119e-05},\n",
              "  {'language': 'he', 'confidence': 4.949327650382447e-05},\n",
              "  {'language': 'ur', 'confidence': 4.684054052127392e-05},\n",
              "  {'language': 'fi', 'confidence': 4.499375772428098e-05},\n",
              "  {'language': 'hr', 'confidence': 4.266385302948354e-05},\n",
              "  {'language': 'sl', 'confidence': 3.486509847778729e-05},\n",
              "  {'language': 'eo', 'confidence': 3.443917988519634e-05},\n",
              "  {'language': 'eu', 'confidence': 3.432288847966917e-05},\n",
              "  {'language': 'sk', 'confidence': 3.2941396278568596e-05},\n",
              "  {'language': 'zh', 'confidence': 2.975734572756574e-05},\n",
              "  {'language': 'is', 'confidence': 2.7495774204426547e-05},\n",
              "  {'language': 'mn', 'confidence': 2.731038429182019e-05},\n",
              "  {'language': 'ru', 'confidence': 2.1634201678906133e-05},\n",
              "  {'language': 'so', 'confidence': 1.8447483671206942e-05},\n",
              "  {'language': 'lv', 'confidence': 1.583224550642583e-05},\n",
              "  {'language': 'ar', 'confidence': 1.4434052643437457e-05},\n",
              "  {'language': 'lt', 'confidence': 1.1497274488393251e-05},\n",
              "  {'language': 'zh-TW', 'confidence': 1.0502050559157679e-05},\n",
              "  {'language': 'bn', 'confidence': 6.384912756922862e-06},\n",
              "  {'language': 'mr', 'confidence': 4.839004843558026e-06},\n",
              "  {'language': 'pa', 'confidence': 4.649150740337387e-06},\n",
              "  {'language': 'kk', 'confidence': 4.266462671091746e-06},\n",
              "  {'language': 'sr', 'confidence': 3.898811760170034e-06},\n",
              "  {'language': 'hy', 'confidence': 3.200018188918196e-06},\n",
              "  {'language': 'ky', 'confidence': 3.195064453302027e-06},\n",
              "  {'language': 'lo', 'confidence': 3.192508896789259e-06},\n",
              "  {'language': 'my', 'confidence': 3.1315917235060378e-06},\n",
              "  {'language': 'ka', 'confidence': 3.03888322146539e-06},\n",
              "  {'language': 'bg', 'confidence': 2.88366630398034e-06},\n",
              "  {'language': 'be', 'confidence': 2.7733292879877775e-06},\n",
              "  {'language': 'km', 'confidence': 2.498814931030121e-06},\n",
              "  {'language': 'ta', 'confidence': 2.4513930614102592e-06},\n",
              "  {'language': 'te', 'confidence': 2.1918014503503306e-06},\n",
              "  {'language': 'uk', 'confidence': 1.941838293923643e-06},\n",
              "  {'language': 'ps', 'confidence': 1.454727297339003e-06},\n",
              "  {'language': 'ml', 'confidence': 1.3406533666426362e-06},\n",
              "  {'language': 'cv', 'confidence': 9.716619820610875e-07},\n",
              "  {'language': 'ba', 'confidence': 8.357991397677287e-07},\n",
              "  {'language': 'ne', 'confidence': 7.895579404122157e-07},\n",
              "  {'language': 'gu', 'confidence': 7.84658229584437e-07},\n",
              "  {'language': 'pa-PK', 'confidence': 3.783922466020495e-07},\n",
              "  {'language': 'si', 'confidence': 3.463993980401738e-07},\n",
              "  {'language': 'fa', 'confidence': 1.9347143829879339e-07}]}"
            ]
          },
          "metadata": {},
          "execution_count": 12
        }
      ]
    },
    {
      "cell_type": "markdown",
      "source": [
        "# 4. AI Travel Guide"
      ],
      "metadata": {
        "id": "RAjAtut7QsW8"
      }
    },
    {
      "cell_type": "code",
      "source": [
        "tts_api_key = 'your_tts_api_key'\n",
        "tts_serv_url = 'your_tts_serv_url'"
      ],
      "metadata": {
        "id": "ED5nwyG1V2V_"
      },
      "execution_count": 15,
      "outputs": []
    },
    {
      "cell_type": "code",
      "source": [
        "from ibm_watson import TextToSpeechV1"
      ],
      "metadata": {
        "id": "2wZMDjyDV8FU"
      },
      "execution_count": 16,
      "outputs": []
    },
    {
      "cell_type": "code",
      "execution_count": 17,
      "metadata": {
        "id": "SypIQdIHJBkB"
      },
      "outputs": [],
      "source": [
        "authenticator = IAMAuthenticator(tts_api_key)\n",
        "translator = TextToSpeechV1(authenticator=authenticator)\n",
        "translator.set_service_url(tts_serv_url)"
      ]
    },
    {
      "cell_type": "code",
      "source": [
        "translation = lt.translate(text=\"Today is a very hot and humid day\", model_id='en-es').get_result()\n",
        "translation"
      ],
      "metadata": {
        "colab": {
          "base_uri": "https://localhost:8080/"
        },
        "id": "2rjJprLqWo-N",
        "outputId": "da0d0bb0-e847-4015-ee4e-2b84b507b2ca"
      },
      "execution_count": 37,
      "outputs": [
        {
          "output_type": "execute_result",
          "data": {
            "text/plain": [
              "{'translations': [{'translation': 'Hoy es un día muy caluroso y húmedo'}],\n",
              " 'word_count': 8,\n",
              " 'character_count': 33}"
            ]
          },
          "metadata": {},
          "execution_count": 37
        }
      ]
    },
    {
      "cell_type": "code",
      "source": [
        "text = translation['translations'][0]['translation']"
      ],
      "metadata": {
        "id": "lKtjNtqTXYOa"
      },
      "execution_count": 38,
      "outputs": []
    },
    {
      "cell_type": "code",
      "source": [
        "text"
      ],
      "metadata": {
        "colab": {
          "base_uri": "https://localhost:8080/",
          "height": 36
        },
        "id": "_e7aygGPXgV8",
        "outputId": "499ae6e9-74ae-43ba-9df6-eeab741642b2"
      },
      "execution_count": 39,
      "outputs": [
        {
          "output_type": "execute_result",
          "data": {
            "text/plain": [
              "'Hoy es un día muy caluroso y húmedo'"
            ],
            "application/vnd.google.colaboratory.intrinsic+json": {
              "type": "string"
            }
          },
          "metadata": {},
          "execution_count": 39
        }
      ]
    },
    {
      "cell_type": "code",
      "source": [
        "with open('./spanish_audio.mp3', 'wb') as file:\n",
        "  res = translator.synthesize(text, accept='audio/mp3', voice='es-ES_EnriqueV3Voice').get_result()\n",
        "  file.write(res.content)"
      ],
      "metadata": {
        "id": "4JzxadZuXhqZ"
      },
      "execution_count": 42,
      "outputs": []
    },
    {
      "cell_type": "code",
      "source": [],
      "metadata": {
        "id": "c1l0ZjQYYErB"
      },
      "execution_count": null,
      "outputs": []
    }
  ]
}