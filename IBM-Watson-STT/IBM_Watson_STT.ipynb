{
  "nbformat": 4,
  "nbformat_minor": 0,
  "metadata": {
    "colab": {
      "provenance": [],
      "gpuType": "T4"
    },
    "kernelspec": {
      "name": "python3",
      "display_name": "Python 3"
    },
    "language_info": {
      "name": "python"
    },
    "accelerator": "GPU"
  },
  "cells": [
    {
      "cell_type": "markdown",
      "source": [
        "#0. Install and Import Dependencies"
      ],
      "metadata": {
        "id": "w5beIaBJpYvS"
      }
    },
    {
      "cell_type": "code",
      "source": [
        "!pip install ibm_watson"
      ],
      "metadata": {
        "colab": {
          "base_uri": "https://localhost:8080/"
        },
        "id": "nPJhMZPXpzJ4",
        "outputId": "4afc1336-b50c-46e1-9aa2-0022047aee8b"
      },
      "execution_count": 17,
      "outputs": [
        {
          "output_type": "stream",
          "name": "stdout",
          "text": [
            "Requirement already satisfied: ibm_watson in /usr/local/lib/python3.10/dist-packages (8.1.0)\n",
            "Requirement already satisfied: requests<3.0,>=2.0 in /usr/local/lib/python3.10/dist-packages (from ibm_watson) (2.31.0)\n",
            "Requirement already satisfied: python-dateutil>=2.5.3 in /usr/local/lib/python3.10/dist-packages (from ibm_watson) (2.8.2)\n",
            "Requirement already satisfied: websocket-client>=1.1.0 in /usr/local/lib/python3.10/dist-packages (from ibm_watson) (1.8.0)\n",
            "Requirement already satisfied: ibm-cloud-sdk-core==3.*,>=3.3.6 in /usr/local/lib/python3.10/dist-packages (from ibm_watson) (3.20.0)\n",
            "Requirement already satisfied: urllib3<3.0.0,>=2.1.0 in /usr/local/lib/python3.10/dist-packages (from ibm-cloud-sdk-core==3.*,>=3.3.6->ibm_watson) (2.2.1)\n",
            "Requirement already satisfied: PyJWT<3.0.0,>=2.8.0 in /usr/local/lib/python3.10/dist-packages (from ibm-cloud-sdk-core==3.*,>=3.3.6->ibm_watson) (2.8.0)\n",
            "Requirement already satisfied: six>=1.5 in /usr/local/lib/python3.10/dist-packages (from python-dateutil>=2.5.3->ibm_watson) (1.16.0)\n",
            "Requirement already satisfied: charset-normalizer<4,>=2 in /usr/local/lib/python3.10/dist-packages (from requests<3.0,>=2.0->ibm_watson) (3.3.2)\n",
            "Requirement already satisfied: idna<4,>=2.5 in /usr/local/lib/python3.10/dist-packages (from requests<3.0,>=2.0->ibm_watson) (3.7)\n",
            "Requirement already satisfied: certifi>=2017.4.17 in /usr/local/lib/python3.10/dist-packages (from requests<3.0,>=2.0->ibm_watson) (2024.2.2)\n"
          ]
        }
      ]
    },
    {
      "cell_type": "markdown",
      "source": [
        "#1. Setup STT Service"
      ],
      "metadata": {
        "id": "2JkkIaIfpYrx"
      }
    },
    {
      "cell_type": "code",
      "source": [
        "from ibm_watson import SpeechToTextV1\n",
        "from ibm_watson.websocket import RecognizeCallback, AudioSource\n",
        "from ibm_cloud_sdk_core.authenticators import IAMAuthenticator"
      ],
      "metadata": {
        "id": "ebPpGBN3qVp7"
      },
      "execution_count": 18,
      "outputs": []
    },
    {
      "cell_type": "code",
      "source": [
        "api_key = 'your_api_key'\n",
        "service_url = 'your_service_url'"
      ],
      "metadata": {
        "id": "d4aPyAMUqr2M"
      },
      "execution_count": 34,
      "outputs": []
    },
    {
      "cell_type": "code",
      "source": [
        "# service setup\n",
        "authenticator = IAMAuthenticator(api_key)\n",
        "stt = SpeechToTextV1(authenticator=authenticator)\n",
        "stt.set_service_url(service_url)"
      ],
      "metadata": {
        "id": "805_Hm9cq18S"
      },
      "execution_count": 20,
      "outputs": []
    },
    {
      "cell_type": "markdown",
      "source": [
        "#2. Open Audio Source and Convert"
      ],
      "metadata": {
        "id": "b8r4LDSapYpD"
      }
    },
    {
      "cell_type": "code",
      "source": [
        "# perform conversion\n",
        "with open('sample-0.mp3', 'rb') as f:\n",
        "  res = stt.recognize(audio=f, content_type='audio/mp3', model='en-US_NarrowbandModel').get_result()"
      ],
      "metadata": {
        "id": "zbLxjMv8sKh9"
      },
      "execution_count": 23,
      "outputs": []
    },
    {
      "cell_type": "code",
      "source": [
        "res"
      ],
      "metadata": {
        "colab": {
          "base_uri": "https://localhost:8080/"
        },
        "id": "fQNFKsJQvJG6",
        "outputId": "d3385669-60e9-4a67-8dbf-6fa12eabbcc5"
      },
      "execution_count": 24,
      "outputs": [
        {
          "output_type": "execute_result",
          "data": {
            "text/plain": [
              "{'result_index': 0,\n",
              " 'results': [{'final': True,\n",
              "   'alternatives': [{'transcript': 'perhaps he made up to the party afterwards and took her and his harsh I tend continued it was not fear rise such as over her ',\n",
              "     'confidence': 0.83}]},\n",
              "  {'final': True,\n",
              "   'alternatives': [{'transcript': 'Edmund ', 'confidence': 0.98}]}]}"
            ]
          },
          "metadata": {},
          "execution_count": 24
        }
      ]
    },
    {
      "cell_type": "code",
      "source": [
        "text = res['results'][0]['alternatives'][0]['transcript']"
      ],
      "metadata": {
        "id": "7jR1xTalveB4"
      },
      "execution_count": 25,
      "outputs": []
    },
    {
      "cell_type": "code",
      "source": [
        "text"
      ],
      "metadata": {
        "colab": {
          "base_uri": "https://localhost:8080/",
          "height": 53
        },
        "id": "ZHITet-Zvqc2",
        "outputId": "1e1517ef-1448-4e8b-854a-6dc126f9f17a"
      },
      "execution_count": 26,
      "outputs": [
        {
          "output_type": "execute_result",
          "data": {
            "text/plain": [
              "'perhaps he made up to the party afterwards and took her and his harsh I tend continued it was not fear rise such as over her '"
            ],
            "application/vnd.google.colaboratory.intrinsic+json": {
              "type": "string"
            }
          },
          "metadata": {},
          "execution_count": 26
        }
      ]
    },
    {
      "cell_type": "code",
      "source": [
        "confidence = res['results'][0]['alternatives'][0]['confidence']"
      ],
      "metadata": {
        "id": "PGUnwZZ6vvq9"
      },
      "execution_count": 27,
      "outputs": []
    },
    {
      "cell_type": "code",
      "source": [
        "confidence"
      ],
      "metadata": {
        "colab": {
          "base_uri": "https://localhost:8080/"
        },
        "id": "ml_kltBmvy88",
        "outputId": "169027a0-b7ee-4197-e109-b363e658f818"
      },
      "execution_count": 28,
      "outputs": [
        {
          "output_type": "execute_result",
          "data": {
            "text/plain": [
              "0.83"
            ]
          },
          "metadata": {},
          "execution_count": 28
        }
      ]
    },
    {
      "cell_type": "code",
      "source": [
        "with open('text.txt', 'w') as text_file:\n",
        "  text_file.writelines(text)"
      ],
      "metadata": {
        "id": "FFUYo-Nbv4u4"
      },
      "execution_count": 30,
      "outputs": []
    },
    {
      "cell_type": "markdown",
      "source": [
        "#3. Change Language Models"
      ],
      "metadata": {
        "id": "wZwQ6YzHpYmO"
      }
    },
    {
      "cell_type": "code",
      "source": [
        "# perform conversion\n",
        "with open('sample-0.mp3', 'rb') as f1:\n",
        "  res2 = stt.recognize(audio=f1, content_type='audio/mp3', model='en-AU_NarrowbandModel').get_result()"
      ],
      "metadata": {
        "id": "V89yj59iw5xY"
      },
      "execution_count": 31,
      "outputs": []
    },
    {
      "cell_type": "code",
      "source": [
        "res2"
      ],
      "metadata": {
        "colab": {
          "base_uri": "https://localhost:8080/"
        },
        "id": "9435qztfxsnM",
        "outputId": "b1ffd2ac-0af2-4791-ad83-9cdf36090879"
      },
      "execution_count": 32,
      "outputs": [
        {
          "output_type": "execute_result",
          "data": {
            "text/plain": [
              "{'result_index': 0,\n",
              " 'results': [{'final': True,\n",
              "   'alternatives': [{'transcript': 'perhaps he made up to the party afterwards and took her and his heart and continued it was not for your eyes set it over her ',\n",
              "     'confidence': 0.79}]},\n",
              "  {'final': True,\n",
              "   'alternatives': [{'transcript': 'Edmund ', 'confidence': 0.54}]}]}"
            ]
          },
          "metadata": {},
          "execution_count": 32
        }
      ]
    },
    {
      "cell_type": "code",
      "source": [
        "print(res2['results'][0]['alternatives'][0]['transcript'])"
      ],
      "metadata": {
        "colab": {
          "base_uri": "https://localhost:8080/"
        },
        "id": "MswO4njVx3mx",
        "outputId": "1dc19774-828e-401c-e0f0-cc03e4d3248f"
      },
      "execution_count": 33,
      "outputs": [
        {
          "output_type": "stream",
          "name": "stdout",
          "text": [
            "perhaps he made up to the party afterwards and took her and his heart and continued it was not for your eyes set it over her \n"
          ]
        }
      ]
    },
    {
      "cell_type": "code",
      "source": [],
      "metadata": {
        "id": "eSSx797VyNBN"
      },
      "execution_count": null,
      "outputs": []
    }
  ]
}