{
  "nbformat": 4,
  "nbformat_minor": 0,
  "metadata": {
    "colab": {
      "provenance": []
    },
    "kernelspec": {
      "name": "python3",
      "display_name": "Python 3"
    },
    "language_info": {
      "name": "python"
    }
  },
  "cells": [
    {
      "cell_type": "markdown",
      "source": [
        "# **1. Install and Import Depenedencies**"
      ],
      "metadata": {
        "id": "2joNwcrE98Zl"
      }
    },
    {
      "cell_type": "code",
      "source": [
        "!pip install ibm_watson"
      ],
      "metadata": {
        "colab": {
          "base_uri": "https://localhost:8080/"
        },
        "id": "QJnNGfYK-dPg",
        "outputId": "dae8292e-13e6-4df0-ada5-71e8cf183290"
      },
      "execution_count": 1,
      "outputs": [
        {
          "output_type": "stream",
          "name": "stdout",
          "text": [
            "Collecting ibm_watson\n",
            "  Downloading ibm_watson-8.1.0.tar.gz (400 kB)\n",
            "\u001b[2K     \u001b[90m━━━━━━━━━━━━━━━━━━━━━━━━━━━━━━━━━━━━━━━━\u001b[0m \u001b[32m400.1/400.1 kB\u001b[0m \u001b[31m2.2 MB/s\u001b[0m eta \u001b[36m0:00:00\u001b[0m\n",
            "\u001b[?25h  Installing build dependencies ... \u001b[?25l\u001b[?25hdone\n",
            "  Getting requirements to build wheel ... \u001b[?25l\u001b[?25hdone\n",
            "  Preparing metadata (pyproject.toml) ... \u001b[?25l\u001b[?25hdone\n",
            "Requirement already satisfied: requests<3.0,>=2.0 in /usr/local/lib/python3.10/dist-packages (from ibm_watson) (2.31.0)\n",
            "Requirement already satisfied: python-dateutil>=2.5.3 in /usr/local/lib/python3.10/dist-packages (from ibm_watson) (2.8.2)\n",
            "Requirement already satisfied: websocket-client>=1.1.0 in /usr/local/lib/python3.10/dist-packages (from ibm_watson) (1.8.0)\n",
            "Collecting ibm-cloud-sdk-core==3.*,>=3.3.6 (from ibm_watson)\n",
            "  Downloading ibm-cloud-sdk-core-3.20.0.tar.gz (62 kB)\n",
            "\u001b[2K     \u001b[90m━━━━━━━━━━━━━━━━━━━━━━━━━━━━━━━━━━━━━━━━\u001b[0m \u001b[32m62.1/62.1 kB\u001b[0m \u001b[31m6.0 MB/s\u001b[0m eta \u001b[36m0:00:00\u001b[0m\n",
            "\u001b[?25h  Installing build dependencies ... \u001b[?25l\u001b[?25hdone\n",
            "  Getting requirements to build wheel ... \u001b[?25l\u001b[?25hdone\n",
            "  Preparing metadata (pyproject.toml) ... \u001b[?25l\u001b[?25hdone\n",
            "Collecting urllib3<3.0.0,>=2.1.0 (from ibm-cloud-sdk-core==3.*,>=3.3.6->ibm_watson)\n",
            "  Downloading urllib3-2.2.1-py3-none-any.whl (121 kB)\n",
            "\u001b[2K     \u001b[90m━━━━━━━━━━━━━━━━━━━━━━━━━━━━━━━━━━━━━━━━\u001b[0m \u001b[32m121.1/121.1 kB\u001b[0m \u001b[31m13.0 MB/s\u001b[0m eta \u001b[36m0:00:00\u001b[0m\n",
            "\u001b[?25hCollecting PyJWT<3.0.0,>=2.8.0 (from ibm-cloud-sdk-core==3.*,>=3.3.6->ibm_watson)\n",
            "  Downloading PyJWT-2.8.0-py3-none-any.whl (22 kB)\n",
            "Requirement already satisfied: six>=1.5 in /usr/local/lib/python3.10/dist-packages (from python-dateutil>=2.5.3->ibm_watson) (1.16.0)\n",
            "Requirement already satisfied: charset-normalizer<4,>=2 in /usr/local/lib/python3.10/dist-packages (from requests<3.0,>=2.0->ibm_watson) (3.3.2)\n",
            "Requirement already satisfied: idna<4,>=2.5 in /usr/local/lib/python3.10/dist-packages (from requests<3.0,>=2.0->ibm_watson) (3.7)\n",
            "Requirement already satisfied: certifi>=2017.4.17 in /usr/local/lib/python3.10/dist-packages (from requests<3.0,>=2.0->ibm_watson) (2024.2.2)\n",
            "Building wheels for collected packages: ibm_watson, ibm-cloud-sdk-core\n",
            "  Building wheel for ibm_watson (pyproject.toml) ... \u001b[?25l\u001b[?25hdone\n",
            "  Created wheel for ibm_watson: filename=ibm_watson-8.1.0-py3-none-any.whl size=402519 sha256=f23393ef175b91f84271af5248e6d24f96a069d5265dd64d35463a17d44bc747\n",
            "  Stored in directory: /root/.cache/pip/wheels/9c/ec/3d/75dc52e05ee4b84284f9f481ccbb85260985823c6c7083bf16\n",
            "  Building wheel for ibm-cloud-sdk-core (pyproject.toml) ... \u001b[?25l\u001b[?25hdone\n",
            "  Created wheel for ibm-cloud-sdk-core: filename=ibm_cloud_sdk_core-3.20.0-py3-none-any.whl size=101424 sha256=4fb47aec599a21144e9bf2fe839e026d25372b0c796818c8cff1ac61fbfb6ecc\n",
            "  Stored in directory: /root/.cache/pip/wheels/d0/1c/35/8ae2b2b46ca9f86d9edcc026eb0f1a5e8237b712ea3e1ba6c4\n",
            "Successfully built ibm_watson ibm-cloud-sdk-core\n",
            "Installing collected packages: urllib3, PyJWT, ibm-cloud-sdk-core, ibm_watson\n",
            "  Attempting uninstall: urllib3\n",
            "    Found existing installation: urllib3 2.0.7\n",
            "    Uninstalling urllib3-2.0.7:\n",
            "      Successfully uninstalled urllib3-2.0.7\n",
            "  Attempting uninstall: PyJWT\n",
            "    Found existing installation: PyJWT 2.3.0\n",
            "    Uninstalling PyJWT-2.3.0:\n",
            "      Successfully uninstalled PyJWT-2.3.0\n",
            "Successfully installed PyJWT-2.8.0 ibm-cloud-sdk-core-3.20.0 ibm_watson-8.1.0 urllib3-2.2.1\n"
          ]
        }
      ]
    },
    {
      "cell_type": "code",
      "source": [
        "!apt install ffmpeg"
      ],
      "metadata": {
        "colab": {
          "base_uri": "https://localhost:8080/"
        },
        "id": "MH7ncdx3-vgM",
        "outputId": "a14c9efa-115d-41e5-819d-5627c531d70a"
      },
      "execution_count": 2,
      "outputs": [
        {
          "output_type": "stream",
          "name": "stdout",
          "text": [
            "Reading package lists... Done\n",
            "Building dependency tree... Done\n",
            "Reading state information... Done\n",
            "ffmpeg is already the newest version (7:4.4.2-0ubuntu0.22.04.1).\n",
            "0 upgraded, 0 newly installed, 0 to remove and 45 not upgraded.\n"
          ]
        }
      ]
    },
    {
      "cell_type": "code",
      "source": [
        "from ibm_watson import SpeechToTextV1\n",
        "from ibm_cloud_sdk_core.authenticators import IAMAuthenticator"
      ],
      "metadata": {
        "id": "fYsynJww-2dJ"
      },
      "execution_count": 3,
      "outputs": []
    },
    {
      "cell_type": "markdown",
      "source": [
        "# **2. Setup STT Service**"
      ],
      "metadata": {
        "id": "pbi2uTvI98dh"
      }
    },
    {
      "cell_type": "code",
      "source": [
        "api_key = 'your_api_key'\n",
        "service_url = 'your_service_url'"
      ],
      "metadata": {
        "id": "kuA6speh-_wS"
      },
      "execution_count": 6,
      "outputs": []
    },
    {
      "cell_type": "code",
      "source": [
        "authenticator = IAMAuthenticator(api_key)\n",
        "stt = SpeechToTextV1(authenticator= authenticator)\n",
        "stt.set_service_url(service_url)"
      ],
      "metadata": {
        "id": "eQxaxGsF_rdy"
      },
      "execution_count": 5,
      "outputs": []
    },
    {
      "cell_type": "markdown",
      "source": [
        "# **3. Compress and Split Audio**"
      ],
      "metadata": {
        "id": "ypLxyahr98fK"
      }
    },
    {
      "cell_type": "code",
      "source": [
        "import subprocess\n",
        "import os\n",
        "command = 'ffmpeg -i audio.mp3 -f segment -segment_time 360 -c copy %03d.mp3'\n",
        "subprocess.call(command, shell=True)"
      ],
      "metadata": {
        "colab": {
          "base_uri": "https://localhost:8080/"
        },
        "id": "jTZZ3U1QGFsR",
        "outputId": "9d257c36-0482-481e-e776-adf11b905df2"
      },
      "execution_count": 7,
      "outputs": [
        {
          "output_type": "execute_result",
          "data": {
            "text/plain": [
              "0"
            ]
          },
          "metadata": {},
          "execution_count": 7
        }
      ]
    },
    {
      "cell_type": "code",
      "source": [
        "files = []\n",
        "for filename in os.listdir('.'):\n",
        "  if filename.endswith(\".mp3\") and filename != \"audio.mp3\":\n",
        "    files.append(filename)\n",
        "files.sort()"
      ],
      "metadata": {
        "id": "tYz_MvNGHWDz"
      },
      "execution_count": 8,
      "outputs": []
    },
    {
      "cell_type": "code",
      "source": [
        "files"
      ],
      "metadata": {
        "colab": {
          "base_uri": "https://localhost:8080/"
        },
        "id": "g56NDnILH1dB",
        "outputId": "3fdee67b-af36-4fa4-9dfa-7e1aff07ef50"
      },
      "execution_count": 9,
      "outputs": [
        {
          "output_type": "execute_result",
          "data": {
            "text/plain": [
              "['000.mp3', '001.mp3']"
            ]
          },
          "metadata": {},
          "execution_count": 9
        }
      ]
    },
    {
      "cell_type": "markdown",
      "source": [
        "# **4. Perform Conversion**"
      ],
      "metadata": {
        "id": "pOVW-1ch98ir"
      }
    },
    {
      "cell_type": "code",
      "source": [
        "results = []\n",
        "for filename in files:\n",
        "    with open(filename, 'rb') as f:\n",
        "        res = stt.recognize(audio=f, content_type='audio/mp3', model='en-AU_NarrowbandModel', inactivity_timeout=360).get_result()\n",
        "        results.append(res)"
      ],
      "metadata": {
        "id": "mm0VLVVF-Ph7"
      },
      "execution_count": 11,
      "outputs": []
    },
    {
      "cell_type": "code",
      "source": [
        "text = []\n",
        "for file in results:\n",
        "    for result in file['results']:\n",
        "        text.append(result['alternatives'][0]['transcript'].rstrip() + '.\\n')"
      ],
      "metadata": {
        "id": "G-LSnIn8IBhf"
      },
      "execution_count": 12,
      "outputs": []
    },
    {
      "cell_type": "code",
      "source": [
        "text"
      ],
      "metadata": {
        "colab": {
          "base_uri": "https://localhost:8080/"
        },
        "id": "JpJafYFnIzKn",
        "outputId": "2eab3fc8-fda8-4643-c5eb-9fcee3055fd7"
      },
      "execution_count": 13,
      "outputs": [
        {
          "output_type": "execute_result",
          "data": {
            "text/plain": [
              "[\"tired of speaking maybe they want to do your own speech well there's an app for that so in this video will be taking a look at how you can take text and converted to speech also known as text to speech may probably wondering why the hell is he wearing this hat well in this case what we're going to be taking a look at is how to convert text from different languages as well as English to be able to generate speech so we'll actually be taking a look at how to convert French to French speech let's take a look in a little bit more detail as to what we're going to be covered so this is going to be a bit of a crash course on text to speech conversion so the first thing that we're going to be doing is converting a simple variable from python into a speech father will applet to MP three wouldn't take a look at how you can pre process text documents %HESITATION so you got a bunch of files you want to convert we'll be able to convert that to speech as well last not least will also take a look at how we can convert using different language model so we'll take a look at all the different languages available and will specifically convert using one of those will also cover all the setup that you need to go through send this case we're going to be using what's in text to speech so will cover all of that as well now in terms of how we going to be doing it with only working inside of a Jupiter notebooks so we'll catch up all of our content or a corporate using python will then send that text to the what's in Texas speech service so that will be allowed to perform that conversion and then from there will applet that as an audio file so it'll be an MP three file that will be able to convert you can do it in a bunch other formats but will use MP three him this case really get to it let your the first thing that we're going to do before we start converting out text to speech is allowed I do put a notebook so there's forty steps that we want to go through inside of our parts on Jupiter notebook those are installing our dependencies setting up our speech to text service are authenticating then we're going to convert a basic model read a file from text and convert that and we're also going to use a new language model.\\n\",\n",
              " \"all right so we've got the basic layout for a different notebooks setup so again as we said we're going to first up insulated penalty then authenticate converter string read from a file and convert that and then last but not least we can convert with a different language model so this allows you to convert with a Chinese language model an Arabic language model there's a whole heap of different language support so let's go ahead and first up in sort of penalty so in this case there's one key dependency and that's IBM Watson now in order to instal our dependency which is going to use the pipp instal commend.\\n\",\n",
              " \"so that's our done so you can think we've just used an exclamation mark and then we typed in pipp instal IBM Watson so that's our key dependency now installed now the next thing that we need to do is authenticate so because we using the what's in text to speech service we need to go and set up a text to speech service first so in order to do that all we need to do is go to cloud dot IBM dot com forward slash catalogues and then from there all you need to do is hit services so if we do men so select services scroll on down to such machine learning and choose that.\\n\",\n",
              " \"then from here you can see there's a whole bunch of different services the one that we're looking for is text to speech showed this one down here so if we select text to speech so you can see from here that we've got a life plan and that's gonna give us ten thousand characters of conversion per month and it'll be deleted after thirty days of an activity search in this case when we're just getting started out this is more than enough to to go and convert out text to speech so let's do that light plan in here correct so our Texas B. Tervis and now being created you can see it's called text to speech dash W. K. now what we need from our text to speech service R. at ATI E. N. our service URL so to grab that or we need to do is go to manage and you'll have your API key here and your URL here so both of those details I just under the credentials box now what we'll do in order to sort those in a different a notebook is just create two new variables will create one for our URL and one for our API.\\n\",\n",
              " \"so now let's go ahead and copy %HESITATION right you are all in a P. I keep into these variables.\\n\",\n",
              " \"so those other core components that were going to need from our speech to text service so you can see here that we've got a U. R. L. and we also got out AT IT so they look based on the court being that we're going to need now what we want to do is actually start authenticating now in order to do that we're going to need to import some dependencies from the IBM Watson S. T. K. that we just insult.\\n\",\n",
              " \"what we've done is we've imported to keep dependency so we've imported the text to speech class and this is going to last work without text to speech service and we've also imported I A. M. authenticated so that's just going to last authenticate to add text to speech service now what we want to go and do is actually go and create a new instance of the text to speech class and go and authenticate against it.\\n\",\n",
              " \"so that's our service now set up now what damage three key things so we've gone and imported out authenticator and passed throughout API keep.\\n\",\n",
              " \"we've also gone and created a new instance of the text to speech at service and parts are out or tend to cater and then last but not least we set a service you are so that's basically where I services in the worldwide web so that's really have service done now now what we can actually go and do is go and convert from speech to text and this case we're going to start off with a basic conversion.\\n\",\n",
              " \"and what we'll do is we'll just convert hello world now when we go into the.\\n\",\n",
              " 'but we pay.\\n']"
            ]
          },
          "metadata": {},
          "execution_count": 13
        }
      ]
    },
    {
      "cell_type": "code",
      "source": [
        "with open('output.txt', 'w') as out:\n",
        "    out.writelines(text)"
      ],
      "metadata": {
        "id": "tClxmOf0I0SW"
      },
      "execution_count": 14,
      "outputs": []
    },
    {
      "cell_type": "code",
      "source": [],
      "metadata": {
        "id": "CyNnExG3I3nI"
      },
      "execution_count": null,
      "outputs": []
    }
  ]
}